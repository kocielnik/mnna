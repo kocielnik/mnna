{
 "cells": [
  {
   "cell_type": "markdown",
   "metadata": {},
   "source": [
    "> An implementation of the perceptron learning algorithm for supervised binary linear classification.\n",
    "\n",
    "-- [Stefan Holdermans](http://hackage.haskell.org/package/perceptron-0.1.0.3/docs/src/Learning-Perceptron.html)"
   ]
  },
  {
   "cell_type": "code",
   "execution_count": null,
   "metadata": {},
   "outputs": [],
   "source": []
  }
 ],
 "metadata": {
  "kernelspec": {
   "display_name": "Haskell",
   "language": "haskell",
   "name": "haskell"
  },
  "language_info": {
   "codemirror_mode": "ihaskell",
   "file_extension": ".hs",
   "name": "haskell",
   "pygments_lexer": "Haskell",
   "version": "8.0.2"
  }
 },
 "nbformat": 4,
 "nbformat_minor": 2
}
